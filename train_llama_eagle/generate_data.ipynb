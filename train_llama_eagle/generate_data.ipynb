{
 "cells": [
  {
   "cell_type": "code",
   "execution_count": null,
   "metadata": {},
   "outputs": [],
   "source": [
    "import os\n",
    "os.environ[\"CUDA_VISIBLE_DEVICES\"] = \"1\""
   ]
  },
  {
   "cell_type": "code",
   "execution_count": null,
   "metadata": {},
   "outputs": [],
   "source": [
    "import h5py\n",
    "import json\n",
    "import torch\n",
    "\n",
    "from tqdm import tqdm\n",
    "\n",
    "from datasets import load_dataset \n",
    "from transformers import AutoModelForCausalLM, AutoTokenizer"
   ]
  },
  {
   "cell_type": "code",
   "execution_count": null,
   "metadata": {},
   "outputs": [],
   "source": [
    "# dataset = load_dataset(\"allenai/tulu-3-sft-mixture\")\n",
    "\n",
    "# def filter_single_turn(example):\n",
    "#     # One user turn and one assistant turn\n",
    "#     return len(example[\"messages\"]) == 2\n",
    "\n",
    "# dataset = dataset.shuffle(seed=42)\n",
    "\n",
    "# print(\"Filtering for single turn data only\")\n",
    "# prev_len = len(dataset[\"train\"])\n",
    "# dataset = dataset.filter(filter_single_turn)\n",
    "# print(f\"Filtered out {prev_len - len(dataset['train'])} rows. Now dataset is length {len(dataset['train'])}\")\n",
    "\n",
    "# split_dataset = dataset[\"train\"].train_test_split(test_size=100_000, seed=42)\n",
    "# train_dataset = split_dataset[\"train\"]\n",
    "# test_dataset = split_dataset[\"test\"]\n",
    "\n",
    "# train_dataset.to_json(\"data/tulu3_sft_train.json\")\n",
    "# test_dataset.to_json(\"data/tulu3_sft_test.json\")\n",
    "\n",
    "train_dataset = load_dataset(\"json\", data_files=\"data/tulu3_sft_train.json\")\n",
    "test_dataset = load_dataset(\"json\", data_files=\"data/tulu3_sft_test.json\")\n",
    "\n",
    "print(\"Train split:\")\n",
    "print(train_dataset)\n",
    "print(\"\\nTest split:\")\n",
    "print(test_dataset)"
   ]
  },
  {
   "cell_type": "code",
   "execution_count": null,
   "metadata": {},
   "outputs": [],
   "source": [
    "train_dataset[\"train\"][0]"
   ]
  },
  {
   "cell_type": "code",
   "execution_count": null,
   "metadata": {},
   "outputs": [],
   "source": [
    "# model_repo = \"microsoft/Phi-3.5-mini-instruct\"\n",
    "model_repo = \"meta-llama/Meta-Llama-3.1-8B-Instruct\"\n",
    "\n",
    "tokenizer = AutoTokenizer.from_pretrained(model_repo, use_fast=False)\n",
    "model = AutoModelForCausalLM.from_pretrained(model_repo,  device_map=\"cuda:0\", torch_dtype=torch.bfloat16)\n",
    "_ = model.eval()"
   ]
  },
  {
   "cell_type": "code",
   "execution_count": null,
   "metadata": {},
   "outputs": [],
   "source": [
    "def generate_data(start, end):\n",
    "  train_dataset_w_hidden_states = []\n",
    "\n",
    "  for i in tqdm(range(start, end)):\n",
    "    messages = train_dataset[\"train\"][i][\"messages\"]\n",
    "\n",
    "    input_ids = tokenizer.apply_chat_template(messages, return_tensors=\"pt\")\n",
    "    if input_ids.shape[1] > 2_048:\n",
    "      print(f\"Skipping sample with context len {input_ids.shape[1]}\")\n",
    "      continue\n",
    "\n",
    "    with torch.no_grad():\n",
    "      output = model(input_ids.to(\"cuda:0\"), output_hidden_states=True)\n",
    "\n",
    "    hidden_state = output.hidden_states[-1]\n",
    "    logits = output.logits[0].argmax(dim=-1)\n",
    "\n",
    "    data_point = {\n",
    "      \"input_ids\": input_ids.cpu()[0].tolist(),\n",
    "      \"hidden_state\": hidden_state.cpu()[0].tolist()\n",
    "    }\n",
    "\n",
    "    train_dataset_w_hidden_states.append(data_point)\n",
    "\n",
    "  with h5py.File(f\"data/train_dataset_w_hidden_states_{start}-{end}.h5\", \"w\") as f:\n",
    "      for i, item in enumerate(train_dataset_w_hidden_states):\n",
    "          grp = f.create_group(str(i))\n",
    "          grp.create_dataset(\"input_ids\", data=item[\"input_ids\"], dtype='int32')\n",
    "          grp.create_dataset(\"hidden_states\", data=item[\"hidden_state\"], dtype='float32')\n",
    "\n",
    "# start, end = 0, 1_000\n",
    "# generate_data(start, end)"
   ]
  },
  {
   "cell_type": "code",
   "execution_count": null,
   "metadata": {},
   "outputs": [],
   "source": [
    "big_start, big_end = 0, 20_000\n",
    "for i in range(big_start, big_end, 1_000):\n",
    "    small_start, small_end = i, i + 1_000\n",
    "    print(f\"Generating data {small_start}-{small_end}\")\n",
    "    generate_data(small_start, small_end)"
   ]
  },
  {
   "cell_type": "code",
   "execution_count": null,
   "metadata": {},
   "outputs": [],
   "source": []
  }
 ],
 "metadata": {
  "kernelspec": {
   "display_name": "Python 3 (ipykernel)",
   "language": "python",
   "name": "python3"
  },
  "language_info": {
   "codemirror_mode": {
    "name": "ipython",
    "version": 3
   },
   "file_extension": ".py",
   "mimetype": "text/x-python",
   "name": "python",
   "nbconvert_exporter": "python",
   "pygments_lexer": "ipython3",
   "version": "3.10.12"
  },
  "orig_nbformat": 4
 },
 "nbformat": 4,
 "nbformat_minor": 2
}
